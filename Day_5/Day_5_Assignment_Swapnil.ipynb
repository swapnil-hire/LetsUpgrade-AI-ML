{
 "cells": [
  {
   "cell_type": "markdown",
   "metadata": {},
   "source": [
    "# Assignment Day 5"
   ]
  },
  {
   "cell_type": "markdown",
   "metadata": {},
   "source": [
    "Question 1 :\n",
    "Write a Python program to find the first 20 non-even prime natural numbers.\n"
   ]
  },
  {
   "cell_type": "code",
   "execution_count": 9,
   "metadata": {},
   "outputs": [
    {
     "name": "stdout",
     "output_type": "stream",
     "text": [
      "The first 20 non-even prime natural numbers are:\n",
      "Number 1 = 3\n",
      "Number 2 = 5\n",
      "Number 3 = 7\n",
      "Number 4 = 11\n",
      "Number 5 = 13\n",
      "Number 6 = 17\n",
      "Number 7 = 19\n",
      "Number 8 = 23\n",
      "Number 9 = 29\n",
      "Number 10 = 31\n",
      "Number 11 = 37\n",
      "Number 12 = 41\n",
      "Number 13 = 43\n",
      "Number 14 = 47\n",
      "Number 15 = 53\n",
      "Number 16 = 59\n",
      "Number 17 = 61\n",
      "Number 18 = 67\n",
      "Number 19 = 71\n",
      "Number 20 = 73\n"
     ]
    }
   ],
   "source": [
    "    j=0\n",
    "    print(\"The first 20 non-even prime natural numbers are:\")\n",
    "    for num in range(3, 100):\n",
    "         if num > 1:\n",
    "            for i in range(2, num):\n",
    "                if (num % i) == 0:\n",
    "                    break;\n",
    "            else:\n",
    "                j+=1\n",
    "                \n",
    "                print('Number',j,\"=\",num)\n",
    "            if j==20:\n",
    "                break\n",
    "      \n",
    "                    \n",
    "\n",
    "       \n",
    "    "
   ]
  },
  {
   "cell_type": "markdown",
   "metadata": {},
   "source": [
    "Question 2 :\n",
    "Write a Python program to implement 15 functions of string."
   ]
  },
  {
   "cell_type": "code",
   "execution_count": 39,
   "metadata": {},
   "outputs": [
    {
     "name": "stdout",
     "output_type": "stream",
     "text": [
      "True\n",
      "Swapnil\n",
      "-1\n",
      "swapnil\n",
      "swapnil\n",
      "000SWAPNIL\n"
     ]
    }
   ],
   "source": [
    "str = 'SWAPNIL'\n",
    "print(str.isupper())\n",
    "print(str.title())\n",
    "print(str.find('ni'))\n",
    "print(str.swapcase())\n",
    "print(str.casefold())\n",
    "print(str.zfill(10))"
   ]
  },
  {
   "cell_type": "code",
   "execution_count": 38,
   "metadata": {},
   "outputs": [
    {
     "name": "stdout",
     "output_type": "stream",
     "text": [
      "True\n",
      "True\n"
     ]
    }
   ],
   "source": [
    "s = '2019'\n",
    "print(s.isnumeric())\n",
    "print(s.isdigit())"
   ]
  },
  {
   "cell_type": "code",
   "execution_count": 30,
   "metadata": {},
   "outputs": [
    {
     "data": {
      "text/plain": [
       "' SWAPNIL'"
      ]
     },
     "execution_count": 30,
     "metadata": {},
     "output_type": "execute_result"
    }
   ],
   "source": [
    "s = ' SWAPNIL '\n",
    "s.lstrip()\n",
    "s.rstrip()"
   ]
  },
  {
   "cell_type": "code",
   "execution_count": 41,
   "metadata": {},
   "outputs": [
    {
     "name": "stdout",
     "output_type": "stream",
     "text": [
      "Hire\n"
     ]
    }
   ],
   "source": [
    "s = 'Swapnil'\n",
    "s=s.replace('Swapnil', 'Hire')\n",
    "print(s)\n"
   ]
  },
  {
   "cell_type": "code",
   "execution_count": 36,
   "metadata": {},
   "outputs": [
    {
     "name": "stdout",
     "output_type": "stream",
     "text": [
      "['swapnil', 'subhash', 'Hire']\n",
      "3\n",
      "SWAPNIL SUBHASH HIRE\n",
      "('swapnil ', 'subhash', ' Hire')\n"
     ]
    }
   ],
   "source": [
    "str = 'swapnil subhash Hire'\n",
    "str_list = str.split(sep=' ')\n",
    "print(str_list)\n",
    "print(str.count('s'))\n",
    "print(str.upper())\n",
    "print(str.partition('subhash'))"
   ]
  },
  {
   "cell_type": "markdown",
   "metadata": {},
   "source": [
    "Question 3:\n",
    "Write a Python program to check if the given string is a Palindrome or Anagram or None of them.\n",
    "Display the message accordingly to the user."
   ]
  },
  {
   "cell_type": "code",
   "execution_count": 22,
   "metadata": {},
   "outputs": [
    {
     "name": "stdout",
     "output_type": "stream",
     "text": [
      "The given string is Anagram\n"
     ]
    }
   ],
   "source": [
    "str1 = 'not'\n",
    "\n",
    "str2 = 'ton'\n",
    "\n",
    "str = reversed(str1)\n",
    "\n",
    "\n",
    "if list(str1) == list(str):\n",
    "    print(\"The given string is Palindrome.\")\n",
    "elif list(sorted(str1)) == list(sorted(str2)):\n",
    "    print(\"The given string is Anagram\")\n",
    "else:\n",
    "    print(\"The given string is neither Palindrome or Anagram\")"
   ]
  },
  {
   "cell_type": "markdown",
   "metadata": {},
   "source": [
    "Question 4:\n",
    "Write a Python's user defined function that removes all the additional characters from the string\n",
    "and converts it finally to lower case using built-in lower(). eg: If the string is \"Dr. Darshan Ingle\n",
    "@AI-ML Trainer\", then the output be \"drdarshaningleaimltrainer\"."
   ]
  },
  {
   "cell_type": "code",
   "execution_count": 23,
   "metadata": {},
   "outputs": [
    {
     "name": "stdout",
     "output_type": "stream",
     "text": [
      "erswapnilhireyahooengineer\n"
     ]
    }
   ],
   "source": [
    "a = 'Er. Swapnil Hire@yahoo Engineer'\n",
    "for i in a:\n",
    "    if not(i.isalpha()):\n",
    "        a = a.replace(i,'')\n",
    "print(a.lower())"
   ]
  }
 ],
 "metadata": {
  "kernelspec": {
   "display_name": "Python 3",
   "language": "python",
   "name": "python3"
  },
  "language_info": {
   "codemirror_mode": {
    "name": "ipython",
    "version": 3
   },
   "file_extension": ".py",
   "mimetype": "text/x-python",
   "name": "python",
   "nbconvert_exporter": "python",
   "pygments_lexer": "ipython3",
   "version": "3.7.6"
  }
 },
 "nbformat": 4,
 "nbformat_minor": 4
}
