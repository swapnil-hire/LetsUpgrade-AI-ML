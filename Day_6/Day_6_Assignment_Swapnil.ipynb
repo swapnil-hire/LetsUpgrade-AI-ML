{
 "cells": [
  {
   "cell_type": "markdown",
   "metadata": {},
   "source": [
    "# Assignment Day 6 | 14th July 2020"
   ]
  },
  {
   "cell_type": "markdown",
   "metadata": {},
   "source": [
    "Question 1:\n",
    "Assuming that we have some email addresses in the \"username@companyname.com\" format, please write program\n",
    "to print the company name of a given email address. Both user names and company names are composed of letters\n",
    "only.\n",
    "Input Format:\n",
    "The first line of the input contains an email address.\n",
    "Output Format:\n",
    "Print the company name in single line.\n",
    "Example;\n",
    "Input:\n",
    "john@google.com\n",
    "Output:\n",
    "google\n"
   ]
  },
  {
   "cell_type": "code",
   "execution_count": 25,
   "metadata": {},
   "outputs": [
    {
     "name": "stdout",
     "output_type": "stream",
     "text": [
      "Enter your email id:letsupgrade@gmail.co.in\n",
      "Your Email compny name is : gmail\n"
     ]
    }
   ],
   "source": [
    "Email = input(\"Enter your email id:\")\n",
    "company = Email.split(\"@\")[1].split(\".\")[0]\n",
    "print( \"Your Email compny name is :\",company)"
   ]
  },
  {
   "cell_type": "code",
   "execution_count": null,
   "metadata": {},
   "outputs": [],
   "source": [
    "Question 2:\n",
    "Write a program that accepts a comma-separated sequence of words as input and prints the words in a comma\n",
    "separated sequence after sorting them alphabetically.\n",
    "Input Format:\n",
    "The first line of input contains words separated by the comma.\n",
    "Output Format:\n",
    "Print the sorted words separated by the comma.\n",
    "Example:\n",
    "Input:\n",
    "without,hello,bag,world\n",
    "Output:\n",
    "bag,hello,without,world"
   ]
  },
  {
   "cell_type": "code",
   "execution_count": 26,
   "metadata": {},
   "outputs": [
    {
     "name": "stdout",
     "output_type": "stream",
     "text": [
      "Input comma separated sequence of words: jan,feb,mar,apr,mar,june\n",
      "apr,feb,jan,june,mar\n"
     ]
    }
   ],
   "source": [
    "items = input(\"Input comma separated sequence of words: \")\n",
    "words = [word for word in items.split(\",\")]\n",
    "print(\",\".join(sorted(list(set(words)))))\n"
   ]
  },
  {
   "cell_type": "markdown",
   "metadata": {},
   "source": [
    "Question 3:\n",
    "Create your own Jupyter Notebook for Sets"
   ]
  },
  {
   "cell_type": "code",
   "execution_count": 20,
   "metadata": {},
   "outputs": [
    {
     "name": "stdout",
     "output_type": "stream",
     "text": [
      "{'sachin', 'virat', 'yuvraj'}\n",
      "False\n",
      "{'sachin', 'virat', 'dhoni', 'yuvraj'}\n",
      "4\n",
      "{'virat', 'dhoni', 'yuvraj'}\n",
      "pop the element: virat\n",
      "{'dhoni', 'yuvraj'}\n",
      "set()\n"
     ]
    }
   ],
   "source": [
    "\n",
    "set1={\"virat\",\"sachin\",\"yuvraj\"}\n",
    "print(set1)\n",
    "# Access item from set\n",
    "print(\"dhoni\" in set1)\n",
    "# Add item:\n",
    "set1.add(\"dhoni\")\n",
    "print(set1)\n",
    "# get the length\n",
    "print(len(set1))\n",
    "# remove item\n",
    "set1.remove(\"sachin\")\n",
    "print(set1)\n",
    "\n",
    "#pop the item\n",
    "x=set1.pop()\n",
    "print(\"pop the element:\",x)\n",
    "print(set1)\n",
    "\n",
    "set1.clear()\n",
    "print(set1)\n"
   ]
  },
  {
   "cell_type": "code",
   "execution_count": 24,
   "metadata": {},
   "outputs": [
    {
     "name": "stdout",
     "output_type": "stream",
     "text": [
      "{'dhawan', 'ajinkya', 'prithvi', 'hardik', 'rahul', 'rohit'}\n",
      "{'dhawan', 'ajinkya', 'prithvi', 'hardik', 'rahul', 'rohit'}\n"
     ]
    }
   ],
   "source": [
    "# join sets\n",
    "set1 = {\"rohit\", \"rahul\" , \"ajinkya\"}\n",
    "set2 = {\"dhawan\", \"prithvi\", \"hardik\"}\n",
    "\n",
    "set3 = set2.union(set1)\n",
    "print(set3)\n",
    "\n",
    "# update set\n",
    "set2.update(set1)\n",
    "print(set2)\n",
    "\n"
   ]
  },
  {
   "cell_type": "markdown",
   "metadata": {},
   "source": [
    "Question 4:\n",
    "Given a list of n-1 numbers ranging from 1 to n, your task is to find the missing number. There are no duplicates.\n",
    "Input Format:\n",
    "The first line contains n-1 numbers with each number separated by a space.\n",
    "Output Format:\n",
    "Print the missing number\n",
    "Example:\n",
    "Input:1 2 4 6 3 7 8\n",
    "Output:5\n",
    "Explanation:\n",
    "In the above list of numbers 5 is missing and hence 5 is the input\n"
   ]
  },
  {
   "cell_type": "code",
   "execution_count": 18,
   "metadata": {},
   "outputs": [
    {
     "name": "stdout",
     "output_type": "stream",
     "text": [
      "[3, 6]\n"
     ]
    }
   ],
   "source": [
    "def missing_item(lst): \n",
    "    return [x for x in range(lst[0], lst[-1]+1)  \n",
    "                               if x not in lst] \n",
    "  \n",
    " \n",
    "lst = [1, 2, 4, 10, 7, 12, 11,5,8] \n",
    "print(missing_item(lst)) "
   ]
  },
  {
   "cell_type": "markdown",
   "metadata": {},
   "source": [
    "Question 5:\n",
    "With a given list L, write a program to print this list L after removing all duplicate values with original order reserved.\n",
    "Example:\n",
    "If the input list is\n",
    "12 24 35 24 88 120 155 88 120 155\n",
    "Then the output should be\n",
    "12 24 35 88 120 155"
   ]
  },
  {
   "cell_type": "code",
   "execution_count": 17,
   "metadata": {},
   "outputs": [
    {
     "name": "stdout",
     "output_type": "stream",
     "text": [
      "List with duplicate elements:  [21, 22, 23, 24, 21, 22, 23, 25, 26, 27]\n",
      "List with unique elements:  [21, 22, 23, 24, 25, 26, 27]\n"
     ]
    }
   ],
   "source": [
    "list1 = [21, 22, 23, 24, 21, 22, 23, 25, 26, 27]\n",
    "print('List with duplicate elements: ',list1)\n",
    "list2 = list(set(list1))\n",
    "print('List with unique elements: ',list2)"
   ]
  },
  {
   "cell_type": "code",
   "execution_count": null,
   "metadata": {},
   "outputs": [],
   "source": []
  }
 ],
 "metadata": {
  "kernelspec": {
   "display_name": "Python 3",
   "language": "python",
   "name": "python3"
  },
  "language_info": {
   "codemirror_mode": {
    "name": "ipython",
    "version": 3
   },
   "file_extension": ".py",
   "mimetype": "text/x-python",
   "name": "python",
   "nbconvert_exporter": "python",
   "pygments_lexer": "ipython3",
   "version": "3.7.6"
  }
 },
 "nbformat": 4,
 "nbformat_minor": 4
}
