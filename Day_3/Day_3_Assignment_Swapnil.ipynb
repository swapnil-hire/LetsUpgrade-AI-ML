{
 "cells": [
  {
   "cell_type": "markdown",
   "metadata": {},
   "source": [
    "# Assignment Day 3"
   ]
  },
  {
   "cell_type": "markdown",
   "metadata": {},
   "source": [
    "Question 1 :\n",
    "Write a program to subtract two complex numbers in Python."
   ]
  },
  {
   "cell_type": "code",
   "execution_count": 3,
   "metadata": {},
   "outputs": [
    {
     "name": "stdout",
     "output_type": "stream",
     "text": [
      "Addition = (5+9j)\n",
      "Subtraction = (1+3j)\n"
     ]
    }
   ],
   "source": [
    "a = 3 + 6j\n",
    "b = 2 + 3j\n",
    "print('Addition =', a + b)\n",
    "print('Subtraction =', a - b)"
   ]
  },
  {
   "cell_type": "markdown",
   "metadata": {},
   "source": [
    "Question 2 :\n",
    "Write a program to find the fourth root of a number."
   ]
  },
  {
   "cell_type": "code",
   "execution_count": 7,
   "metadata": {},
   "outputs": [
    {
     "name": "stdout",
     "output_type": "stream",
     "text": [
      "The square root of number is 2.0\n"
     ]
    }
   ],
   "source": [
    "num = 16 \n",
    "num_4_rt = num ** 0.25\n",
    "print('The square root of number is',num_4_rt)"
   ]
  },
  {
   "cell_type": "markdown",
   "metadata": {},
   "source": [
    "Question 3:\n",
    "Write a program to swap two numbers in Python with the help of a temporary variable."
   ]
  },
  {
   "cell_type": "code",
   "execution_count": 8,
   "metadata": {},
   "outputs": [
    {
     "name": "stdout",
     "output_type": "stream",
     "text": [
      "The value of x after swapping: 10\n",
      "The value of y after swapping: 5\n"
     ]
    }
   ],
   "source": [
    "x = 5\n",
    "y = 10\n",
    "temp = x\n",
    "x = y\n",
    "y = temp\n",
    "\n",
    "print('The value of x after swapping:',x)\n",
    "print('The value of y after swapping:',y)"
   ]
  },
  {
   "cell_type": "markdown",
   "metadata": {},
   "source": [
    "Question 4:\n",
    "Write a program to swap two numbers in Python without using a temporary variable."
   ]
  },
  {
   "cell_type": "code",
   "execution_count": 11,
   "metadata": {},
   "outputs": [
    {
     "name": "stdout",
     "output_type": "stream",
     "text": [
      "The value of m after swapping: 10\n",
      "The value of n after swapping: 5\n"
     ]
    }
   ],
   "source": [
    "m = 5\n",
    "n = 10\n",
    "\n",
    "m, n = n, m\n",
    "print('The value of m after swapping:',m)\n",
    "print('The value of n after swapping:',n)"
   ]
  },
  {
   "cell_type": "markdown",
   "metadata": {},
   "source": [
    "Question 5:\n",
    "Write a program to convert fahrenheit to kelvin and celsius both."
   ]
  },
  {
   "cell_type": "code",
   "execution_count": 20,
   "metadata": {},
   "outputs": [
    {
     "name": "stdout",
     "output_type": "stream",
     "text": [
      "122  Degree Fahrenheit &  Temperature :  50.0  Degree Celsius & 323.0  Kelvin\n"
     ]
    }
   ],
   "source": [
    "f = 122\n",
    "c = (5 * (f - 32)) / 9\n",
    "k = c +273\n",
    "print (f,\" Degree Fahrenheit &\",\" Temperature : \",round(c,2),\" Degree Celsius &\",round(k,2),\" Kelvin\")"
   ]
  },
  {
   "cell_type": "markdown",
   "metadata": {},
   "source": [
    "a"
   ]
  },
  {
   "cell_type": "code",
   "execution_count": 26,
   "metadata": {},
   "outputs": [
    {
     "name": "stdout",
     "output_type": "stream",
     "text": [
      "<class 'int'>\n",
      "<class 'str'>\n",
      "<class 'float'>\n",
      "<class 'complex'>\n",
      "<class 'tuple'>\n",
      "<class 'list'>\n",
      "<class 'bool'>\n"
     ]
    }
   ],
   "source": [
    "a=10  \n",
    "b=\"Hi Python\"  \n",
    "c = 10.5  \n",
    "d = 1+3j  \n",
    "tup  = (1, 2)  \n",
    "list1  = [1, 2]   \n",
    "\n",
    "print(type(a))  \n",
    "print(type(b))  \n",
    "print(type(c)) \n",
    "print(type(d))  \n",
    "print (type(tup))\n",
    "print(type(list1))  \n",
    "print(type(True))  "
   ]
  },
  {
   "cell_type": "markdown",
   "metadata": {},
   "source": [
    "Question 7:\n",
    "Create a Markdown cell in jupyter and list the steps discussed in the session by Dr. Darshan\n",
    "Ingle sir to create Github profile and upload Githubs Assignment link.\n",
    "\n",
    "Do Assignemnt of day, create a day folder, save assignment in that\n",
    "Create Github account by sign up\n",
    "Create a Github public repo and name it LetsUpgrade AI/ML add assignment in discription\n",
    "Upload the files/solution in the repo in day wise manner.\n",
    "check file in incognito mode uploaded or not\n",
    "Copy the URL of the Folder of that day and paste in the Assignment Submission Form (Google Form)\n",
    "\n"
   ]
  }
 ],
 "metadata": {
  "kernelspec": {
   "display_name": "Python 3",
   "language": "python",
   "name": "python3"
  },
  "language_info": {
   "codemirror_mode": {
    "name": "ipython",
    "version": 3
   },
   "file_extension": ".py",
   "mimetype": "text/x-python",
   "name": "python",
   "nbconvert_exporter": "python",
   "pygments_lexer": "ipython3",
   "version": "3.7.6"
  }
 },
 "nbformat": 4,
 "nbformat_minor": 4
}
