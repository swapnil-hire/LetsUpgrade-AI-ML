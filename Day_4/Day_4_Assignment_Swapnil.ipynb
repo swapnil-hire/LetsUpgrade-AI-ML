{
 "cells": [
  {
   "cell_type": "markdown",
   "metadata": {},
   "source": [
    "# Assignment4 :\n",
    "\n",
    "#Question 1 :\n",
    "Research on whether addition, subtraction, multiplication, division, floor division and modulo\n",
    "operations be performed on complex numbers. Based on your study, implement a Python\n",
    "program to demonstrate these operations."
   ]
  },
  {
   "cell_type": "code",
   "execution_count": 2,
   "metadata": {},
   "outputs": [
    {
     "name": "stdout",
     "output_type": "stream",
     "text": [
      "Addition = (3+9j)\n",
      "Subtraction = (-1-3j)\n",
      "Multiplication = (-16+12j)\n",
      "Division = (2+0j)\n",
      "modulo and floor division can not accept a complex number\n"
     ]
    }
   ],
   "source": [
    "cn = 1 + 3j\n",
    "cm = 2 + 6j\n",
    "print('Addition =', cn + cm)\n",
    "print('Subtraction =', cn - cm)\n",
    "print('Multiplication =', cn * cm)\n",
    "print('Division =', cm / cn)\n",
    "# modulo and floor division can not accept a complex number\n",
    "print('modulo and floor division can not accept a complex number')"
   ]
  },
  {
   "cell_type": "markdown",
   "metadata": {},
   "source": [
    "#Question 2 :\n",
    "Research on range() functions and its parameters. Create a markdown cell and write in your own\n",
    "words (no copy-paste from google please) what you understand about it. Implement a small\n",
    "program of your choice on the same."
   ]
  },
  {
   "cell_type": "markdown",
   "metadata": {},
   "source": [
    "Range function in python. this is inbuilt function of python most used with For loop and while loop. The range function takes one or at most three arguments, namely the start and a stop value along with a step size. can be given in three types range(stop value) range(start value,stop value) range(start value,stop value, step size)"
   ]
  },
  {
   "cell_type": "code",
   "execution_count": 3,
   "metadata": {},
   "outputs": [
    {
     "name": "stdout",
     "output_type": "stream",
     "text": [
      "5\n",
      "6\n",
      "7\n",
      "8\n",
      "9\n"
     ]
    }
   ],
   "source": [
    "for seq in range(5,10):\n",
    "    print(seq)"
   ]
  },
  {
   "cell_type": "code",
   "execution_count": 4,
   "metadata": {},
   "outputs": [
    {
     "name": "stdout",
     "output_type": "stream",
     "text": [
      "0\n",
      "1\n",
      "2\n"
     ]
    }
   ],
   "source": [
    "for swa in range(3):\n",
    "    print(swa)"
   ]
  },
  {
   "cell_type": "code",
   "execution_count": 5,
   "metadata": {},
   "outputs": [
    {
     "data": {
      "text/plain": [
       "[10, 11, 12, 13, 14, 15, 16, 17, 18, 19]"
      ]
     },
     "execution_count": 5,
     "metadata": {},
     "output_type": "execute_result"
    }
   ],
   "source": [
    "list(range(10,20))"
   ]
  },
  {
   "cell_type": "markdown",
   "metadata": {},
   "source": [
    "Question 3:\n",
    "Consider two numbers. Perform their subtraction and if the result of subtraction is greater than\n",
    "25, print their multiplication result else print their division result."
   ]
  },
  {
   "cell_type": "markdown",
   "metadata": {},
   "source": [
    "x=35\n",
    "y=5\n",
    "z=x-y\n",
    "if z<25:\n",
    "   xy = x*y\n",
    "   print(\"multiplication of two numbers\",xy)\n",
    "else:\n",
    "    yx=x/y\n",
    "    print(\"division of two numbers\",yx)"
   ]
  },
  {
   "cell_type": "code",
   "execution_count": null,
   "metadata": {},
   "outputs": [],
   "source": [
    "Question 4:\n",
    "Consider a list of 10 elements of integer values. If the number in the list is divisible by 2, print the\n",
    "result as \"square of that number minus 2\"."
   ]
  },
  {
   "cell_type": "code",
   "execution_count": 7,
   "metadata": {},
   "outputs": [
    {
     "name": "stdout",
     "output_type": "stream",
     "text": [
      "Result is 2\n",
      "Result is 14\n",
      "Result is 9602\n",
      "Result is 34\n",
      "Result is 482\n"
     ]
    }
   ],
   "source": [
    "list_s = [1,2,4,3,55,98,65,6,13,22]  \n",
    "\n",
    "for i in list_s:  \n",
    "    if i%2 == 0: \n",
    "      c=i**2-2\n",
    "      print(\"Result is\",c) "
   ]
  },
  {
   "cell_type": "markdown",
   "metadata": {},
   "source": [
    "Question 5:\n",
    "Consider a list of 10 elements. Print all the elements in the list which are greater than 7 when that\n",
    "number is divided 2."
   ]
  },
  {
   "cell_type": "code",
   "execution_count": 9,
   "metadata": {},
   "outputs": [
    {
     "name": "stdout",
     "output_type": "stream",
     "text": [
      "Result is 8.0\n",
      "Result is 11.0\n"
     ]
    }
   ],
   "source": [
    "list_h = [3,6,4,8,16,9,6,12,13,22]  \n",
    "\n",
    "for i in list_h:  \n",
    "    d=i/2\n",
    "    if d >7: \n",
    "        print(\"Result is\",d) "
   ]
  },
  {
   "cell_type": "code",
   "execution_count": null,
   "metadata": {},
   "outputs": [],
   "source": []
  }
 ],
 "metadata": {
  "kernelspec": {
   "display_name": "Python 3",
   "language": "python",
   "name": "python3"
  },
  "language_info": {
   "codemirror_mode": {
    "name": "ipython",
    "version": 3
   },
   "file_extension": ".py",
   "mimetype": "text/x-python",
   "name": "python",
   "nbconvert_exporter": "python",
   "pygments_lexer": "ipython3",
   "version": "3.7.6"
  }
 },
 "nbformat": 4,
 "nbformat_minor": 4
}
